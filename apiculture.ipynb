{
 "cells": [
  {
   "cell_type": "code",
   "execution_count": 66,
   "metadata": {
    "collapsed": false
   },
   "outputs": [],
   "source": [
    "\"\"\"\n",
    "Project for Olin College, Data Science, Spring 2017.\n",
    "\n",
    "Data from:\n",
    "https://www.nass.usda.gov/Surveys/Guide_to_NASS_Surveys/Bee_and_Honey/\n",
    "http://usda.mannlib.cornell.edu/MannUsda/viewDocumentInfo.do?documentID=1191\n",
    "\n",
    "\n",
    "unzip the csv zip files with\n",
    "\n",
    "$  for VARIABLE in 2002 2003 2004 2005 2006 2007 2008 2009 2010 2011 2012 2013 2014 2015 2016; \n",
    "$  do   unzip *$VARIABLE.zip -d $VARIABLE; \n",
    "$  done\n",
    "\n",
    "or pull them from my git.\n",
    "\"\"\"\n",
    "\n",
    "import numpy as np\n",
    "import pandas\n",
    "import os\n",
    "import string\n",
    "import matplotlib.pyplot as plt\n",
    "import thinkstats2"
   ]
  },
  {
   "cell_type": "code",
   "execution_count": 65,
   "metadata": {
    "collapsed": false
   },
   "outputs": [],
   "source": [
    "def get_all_csvs(csv_years=[2002+i for i in range(15)], csv_path=\"data/csvs/\"):\n",
    "    '''\n",
    "    Returns a list of all csv files in the (hard-coded) year-directory combinations.\n",
    "    '''\n",
    "    all_csvs = []\n",
    "    for i in csv_years:\n",
    "        this_path = csv_path + str(i) + \"/\"\n",
    "        these_files = os.listdir(this_path)\n",
    "        these_csvs = [(this_path + i) for i in these_files if i[-4:] == \".csv\"]\n",
    "        all_csvs.extend(these_csvs)\n",
    "    return all_csvs"
   ]
  },
  {
   "cell_type": "code",
   "execution_count": 3,
   "metadata": {
    "collapsed": false
   },
   "outputs": [],
   "source": [
    "class Csv_obj(object):\n",
    "    def __init__(self, filename):\n",
    "        self.name = filename\n",
    "        year_start = filename.find(\"20\")\n",
    "        self.year = int(filename[year_start:year_start+4])\n",
    "        self.data_type = filename[(filename.find(\"_\") + 1) : (filename.find(\".csv\"))]\n",
    "        # 001: honey type/color/grade to quantity, price for that year\n",
    "        #   color class : price (cents per pound), \n",
    "        #   Co-op/private : Retail : All\n",
    "        # 002: State, number of colonies (1000s), \n",
    "        #   Yield (per colony), Yield (total, 1000 lbs), stocks (1klbs),\n",
    "        #   Average price per pound (cents),\n",
    "        #   total value of production.\n",
    "        # 003: \n",
    "        temp_df = sanitize_then_load_csv(filename)\n",
    "        self.df = self.clean_df(temp_df)\n",
    "\n",
    "    \n",
    "    def __str__(self):\n",
    "        return str(self.year) + \":\" + self.data_type\n",
    "    \n",
    "    def clean_df(self, target):\n",
    "        if self.data_type[-3:] == \"002\":\n",
    "            col_names = [\"state\",\"colonies\",\"yld\",\"production\",\"stocks\",\"prices\",\"totalval\"]\n",
    "                        # abbr,   1000s      lbs/col  1000 lbs    1000 lbs  cents    $1000s   \n",
    "            final = target.drop(target.columns[0],1).drop(target.columns[1],1).dropna()\n",
    "            final.columns = col_names\n",
    "            final = final[final.state != \"State\"]\n",
    "            return final\n",
    "        else:\n",
    "            return target # todo: clean; right now 002 is all we care about though.\n",
    "    \n",
    "    def isnull(self):\n",
    "        if self.df is None:\n",
    "            return True\n",
    "        else:\n",
    "            return False"
   ]
  },
  {
   "cell_type": "code",
   "execution_count": 4,
   "metadata": {
    "collapsed": false
   },
   "outputs": [],
   "source": [
    "def sanitize_then_load_csv(filename, min_col_length=9, max_col_length = None):\n",
    "    \"\"\"\n",
    "    Gets around the metadata-y columns by scanning for the length of .split(',').\n",
    "    TODO: make it ignore the \"format\"/grammatical commas which occur within a single entry in the csv.\n",
    "    \"\"\"\n",
    "    f = open(filename)\n",
    "    lines_to_skip = []\n",
    "    for i, line in enumerate(f.readlines()):\n",
    "        l_split = line.split(',') # will also split internal commas in strings. todo: fix. low priority.\n",
    "        if len(l_split) < min_col_length:\n",
    "            lines_to_skip.append(i)\n",
    "        elif max_col_length != None:\n",
    "            if len(l_split) > max_col_length:\n",
    "                lines_to_skip.append(i)\n",
    "    try:\n",
    "        df = pandas.read_csv(filename, skiprows = lines_to_skip)\n",
    "    except Exception as err:\n",
    "        print \"Cannot read: \", filename, \"\\t \", str(err)[str(err).find(\"Expected\"):]\n",
    "        df = None\n",
    "    return df"
   ]
  },
  {
   "cell_type": "code",
   "execution_count": 5,
   "metadata": {
    "collapsed": false,
    "scrolled": false
   },
   "outputs": [],
   "source": [
    "all_csvs = get_all_csvs()"
   ]
  },
  {
   "cell_type": "code",
   "execution_count": 6,
   "metadata": {
    "collapsed": false
   },
   "outputs": [
    {
     "name": "stdout",
     "output_type": "stream",
     "text": [
      "Cannot read:  data/csvs/2008/hony_all.csv \t  Expected 9 fields in line 155, saw 11\n",
      "\n",
      "Cannot read:  data/csvs/2009/hony_all.csv \t  Expected 9 fields in line 155, saw 11\n",
      "\n",
      "Cannot read:  data/csvs/2010/hony_all.csv \t  Expected 9 fields in line 155, saw 11\n",
      "\n",
      "Cannot read:  data/csvs/2011/hony_all_tables.csv \t  Expected 9 fields in line 153, saw 11\n",
      "\n",
      "Cannot read:  data/csvs/2012/hony_all_tables.csv \t  Expected 9 fields in line 152, saw 10\n",
      "\n",
      "Cannot read:  data/csvs/2013/hony_all_tables.csv \t  Expected 9 fields in line 152, saw 10\n",
      "\n",
      "Cannot read:  data/csvs/2014/hony_all_tables.csv \t  Expected 9 fields in line 151, saw 10\n",
      "\n",
      "Cannot read:  data/csvs/2015/hony_all_tables.csv \t  Expected 9 fields in line 151, saw 10\n",
      "\n",
      "Cannot read:  data/csvs/2016/hony_p00a_t005.csv \t  e\n",
      "Cannot read:  data/csvs/2016/hony_all_tables.csv \t  Expected 9 fields in line 166, saw 10\n",
      "\n"
     ]
    }
   ],
   "source": [
    "csv_objs = [Csv_obj(i) for i in all_csvs]"
   ]
  },
  {
   "cell_type": "code",
   "execution_count": null,
   "metadata": {
    "collapsed": false
   },
   "outputs": [],
   "source": []
  },
  {
   "cell_type": "code",
   "execution_count": 7,
   "metadata": {
    "collapsed": false
   },
   "outputs": [
    {
     "ename": "NameError",
     "evalue": "name 'relevants' is not defined",
     "output_type": "error",
     "traceback": [
      "\u001b[1;31m---------------------------------------------------------------------------\u001b[0m",
      "\u001b[1;31mNameError\u001b[0m                                 Traceback (most recent call last)",
      "\u001b[1;32m<ipython-input-7-ff82cbd32c38>\u001b[0m in \u001b[0;36m<module>\u001b[1;34m()\u001b[0m\n\u001b[1;32m----> 1\u001b[1;33m \u001b[0mrelevants\u001b[0m\u001b[1;33m[\u001b[0m\u001b[1;36m0\u001b[0m\u001b[1;33m]\u001b[0m\u001b[1;33m.\u001b[0m\u001b[0mdf\u001b[0m\u001b[1;33m\u001b[0m\u001b[0m\n\u001b[0m",
      "\u001b[1;31mNameError\u001b[0m: name 'relevants' is not defined"
     ]
    }
   ],
   "source": [
    "relevants[0].df"
   ]
  },
  {
   "cell_type": "code",
   "execution_count": 8,
   "metadata": {
    "collapsed": true
   },
   "outputs": [],
   "source": [
    "abbrev_dict = { # USDA format changed around 2010.\n",
    "    'Alabama': 'AL',\n",
    "    'Alaska': 'AK',\n",
    "    'Arizona': 'AZ',\n",
    "    'Arkansas': 'AR',\n",
    "    'California': 'CA',\n",
    "    'Colorado': 'CO',\n",
    "    'Connecticut': 'CT',\n",
    "    'Delaware': 'DE',\n",
    "    'Florida': 'FL',\n",
    "    'Georgia': 'GA',\n",
    "    'Hawaii': 'HI',\n",
    "    'Idaho': 'ID',\n",
    "    'Illinois': 'IL',\n",
    "    'Indiana': 'IN',\n",
    "    'Iowa': 'IA',\n",
    "    'Kansas': 'KS',\n",
    "    'Kentucky': 'KY',\n",
    "    'Louisiana': 'LA',\n",
    "    'Maine': 'ME',\n",
    "    'Maryland': 'MD',\n",
    "    'Massachusetts': 'MA',\n",
    "    'Michigan': 'MI',\n",
    "    'Minnesota': 'MN',\n",
    "    'Mississippi': 'MS',\n",
    "    'Missouri': 'MO',\n",
    "    'Montana': 'MT',\n",
    "    'Nebraska': 'NE',\n",
    "    'Nevada': 'NV',\n",
    "    'New Hampshire': 'NH',\n",
    "    'New Jersey': 'NJ',\n",
    "    'New Mexico': 'NM',\n",
    "    'New York': 'NY',\n",
    "    'North Carolina': 'NC',\n",
    "    'North Dakota': 'ND',\n",
    "    'Ohio': 'OH',\n",
    "    'Oklahoma': 'OK',\n",
    "    'Oregon': 'OR',\n",
    "    'Pennsylvania': 'PA',\n",
    "    'Rhode Island': 'RI',\n",
    "    'South Carolina': 'SC',\n",
    "    'South Dakota': 'SD',\n",
    "    'Tennessee': 'TN',\n",
    "    'Texas': 'TX',\n",
    "    'Utah': 'UT',\n",
    "    'Vermont': 'VT',\n",
    "    'Virginia': 'VA',\n",
    "    'Washington': 'WA',\n",
    "    'West Virginia': 'WV',\n",
    "    'Wisconsin': 'WI',\n",
    "    'Wyoming': 'WY',\n",
    "    'Other States 5/ 6/': 'Sts',\n",
    "    'United States 6/ 7/': 'US'\n",
    "}\n",
    "\n",
    "index_to_name = { # for pyplot labeling purposes\n",
    "    0: \"Year\",\n",
    "    1: \"Colony count (1000s)\",\n",
    "    2: \"Yield (lbs per colony)\",\n",
    "    3: \"Production (1000 lbs)\",\n",
    "    4: \"Stocks (1000 lbs)\",\n",
    "    5: \"Price (cents/lb)\",\n",
    "    6: \"Total value ($1000s)\",\n",
    "    -1: \"Colony count (% 2002)\",\n",
    "    -2: \"Yield (% 2002)\",\n",
    "    -3: \"Production (% 2002)\",\n",
    "    -4: \"Stocks (% 2002)\",\n",
    "    -5: \"Price (% 2002)\",\n",
    "    -6: \"Total value (% 2002)\"\n",
    "}\n"
   ]
  },
  {
   "cell_type": "code",
   "execution_count": 9,
   "metadata": {
    "collapsed": false
   },
   "outputs": [],
   "source": [
    "relevants = [i for i in csv_objs if i.data_type[-3:] == \"002\"]"
   ]
  },
  {
   "cell_type": "code",
   "execution_count": null,
   "metadata": {
    "collapsed": false
   },
   "outputs": [],
   "source": []
  },
  {
   "cell_type": "code",
   "execution_count": null,
   "metadata": {
    "collapsed": false
   },
   "outputs": [],
   "source": []
  },
  {
   "cell_type": "code",
   "execution_count": 10,
   "metadata": {
    "collapsed": false
   },
   "outputs": [],
   "source": [
    "state_to_vals_dict = {}\n",
    "for i in relevants:\n",
    "    yr = i.year\n",
    "    df = i.df\n",
    "    for index, row in df.iterrows():\n",
    "        if row.state in abbrev_dict:\n",
    "            this_state = abbrev_dict[row.state]\n",
    "        else:\n",
    "            if row.state[:3] in [\"Sts\",\" St\"]:\n",
    "                this_state = \"Sts\"\n",
    "            elif row.state[:2] == \"US\":\n",
    "                this_state = \"US\"\n",
    "            else:\n",
    "                this_state = row.state\n",
    "        this_tup = (yr, row.colonies, row.yld, row.production, row.stocks, row.prices, row.totalval)\n",
    "        if this_state in state_to_vals_dict:\n",
    "            state_to_vals_dict[this_state].append(this_tup)\n",
    "        else:\n",
    "            state_to_vals_dict[this_state] = [this_tup]"
   ]
  },
  {
   "cell_type": "code",
   "execution_count": 11,
   "metadata": {
    "collapsed": true
   },
   "outputs": [],
   "source": [
    "for i in state_to_vals_dict.keys():\n",
    "    state_to_vals_dict[i] = sorted(state_to_vals_dict[i])"
   ]
  },
  {
   "cell_type": "code",
   "execution_count": 79,
   "metadata": {
    "collapsed": false,
    "scrolled": true
   },
   "outputs": [],
   "source": [
    "def plot_vals(states=[\"US\",\"CA\",\"AZ\",\"Sts\",\"ND\"],target_x = 0, target_y=1, as_pct=True):\n",
    "    '''\n",
    "    plots the target_x against target_y for [states]\n",
    "    as_pct = plots yvalues as percent of first value, in 2002.\n",
    "    Default: colony count vs year, as percent of 2002.\n",
    "    \n",
    "    [year, colonies (1k), yield (lbs/col),\n",
    "    production (1k lbs), stocks (1k lbs), \n",
    "    price (cents), totalval ($1k)]\n",
    "    '''\n",
    "    for state in states:\n",
    "        data = state_to_vals_dict[state]\n",
    "        xs = [i[target_x] for i in data]\n",
    "        ys = [i[target_y] for i in data]\n",
    "        if as_pct:\n",
    "            ys = [float(i)/float(ys[0]) for i in ys]\n",
    "        plt.plot(xs, ys, label=state)\n",
    "    if as_pct:\n",
    "        xname = index_to_name[target_x * -1]\n",
    "        yname = index_to_name[target_y * -1]\n",
    "    else:\n",
    "        xname = index_to_name[target_x]\n",
    "        yname = index_to_name[target_y]\n",
    "    plt.xlabel(xname)\n",
    "    plt.ylabel(yname)\n",
    "    plt.legend(loc=0)\n",
    "    plt.show()\n",
    "\n",
    "def scatter_all(target_x=2, target_y=5, as_pct_x=False, as_pct_y=False):\n",
    "    '''\n",
    "    scatters the x vs the y for all states, years.\n",
    "    Default: honey price vs. honey production per colony.\n",
    "    '''\n",
    "    tups = []\n",
    "    for state in state_to_vals_dict.keys():\n",
    "        data = state_to_vals_dict[state]\n",
    "#         print(data)\n",
    "        xs = [i[target_x] for i in data]\n",
    "        ys = [i[target_y] for i in data]\n",
    "        if as_pct_x:\n",
    "            xs = [float(i)/float(xs[0]) for i in xs]\n",
    "        if as_pct_y:\n",
    "            ys = [float(i)/float(ys[0]) for i in ys]\n",
    "        tups.extend(zip(xs, ys))            \n",
    "    if as_pct_x:\n",
    "        xname = index_to_name[target_x * -1]\n",
    "    else:\n",
    "        xname = index_to_name[target_x]\n",
    "    if as_pct_y:\n",
    "        yname = index_to_name[target_y * -1]\n",
    "    else:\n",
    "        yname = index_to_name[target_y]\n",
    "    \n",
    "    xvals, yvals = zip(*tups) \n",
    "    plt.scatter(xvals, yvals)\n",
    "    plt.xlabel(xname)\n",
    "    plt.ylabel(yname)\n",
    "    plt.show()\n",
    "        \n",
    "def scatter_hilo(target_x=2, target_y=5, as_pct_x=False, as_pct_y=False):\n",
    "    '''\n",
    "    scatters the x vs the y for all states, years.\n",
    "    colors high and low-producing states differently.\n",
    "    Default: honey price vs. honey production per colony.\n",
    "    '''\n",
    "    tups_high = []\n",
    "    tups_low = []\n",
    "    prod_means = []\n",
    "    \n",
    "    for state in state_to_vals_dict.keys():\n",
    "        prods = [i[3] for i in state_to_vals_dict[state]]\n",
    "        prods_np = np.array(prods).astype(np.float)\n",
    "        mean = np.mean(prods_np)\n",
    "        prod_means.append(mean)\n",
    "        \n",
    "    m = np.mean(prod_means)\n",
    "    \n",
    "    for state in state_to_vals_dict.keys():\n",
    "        data = state_to_vals_dict[state]\n",
    "        mean_prod = np.mean([int(i[3]) for i in data])\n",
    "        \n",
    "        xs = [float(i[target_x]) for i in data]\n",
    "        ys = [float(i[target_y]) for i in data]\n",
    "        if as_pct_x:\n",
    "            xs = [float(i)/float(xs[0]) for i in xs]\n",
    "        if as_pct_y:\n",
    "            ys = [float(i)/float(ys[0]) for i in ys]\n",
    "        \n",
    "        if mean_prod > m:\n",
    "            tups_high.extend(zip(xs, ys))\n",
    "        else:\n",
    "            tups_low.extend(zip(xs, ys))\n",
    "            \n",
    "    if as_pct_x:\n",
    "        xname = index_to_name[target_x * -1]\n",
    "    else:\n",
    "        xname = index_to_name[target_x]\n",
    "    if as_pct_y:\n",
    "        yname = index_to_name[target_y * -1]\n",
    "    else:\n",
    "        yname = index_to_name[target_y]\n",
    "    \n",
    "    xvals_high, yvals_high = zip(*tups_high) \n",
    "    xvals_low, yvals_low = zip(*tups_low)\n",
    "#     print \"high:\\t\", thinkstats2.Corr(xvals_high, yvals_high)\n",
    "#     print \"low:\\t\", thinkstats2.Corr(xvals_low, yvals_low)\n",
    "    plt.scatter(xvals_low, yvals_low, c='r', s=14, linewidths=0)\n",
    "    plt.scatter(xvals_high, yvals_high, c='b', s=20, linewidths=0)\n",
    "    plt.xlabel(xname)\n",
    "    plt.ylabel(yname)\n",
    "    plt.show()\n",
    "\n",
    "    \n",
    "def corr_one(target_x=2, target_y=5):\n",
    "    '''\n",
    "    Gets the correlation between target_x and target_y.\n",
    "    Default: honey price vs. honey production per colony.\n",
    "    '''\n",
    "    tups = []\n",
    "    for state in state_to_vals_dict.keys():\n",
    "        data = state_to_vals_dict[state]\n",
    "        xs = [float(i[target_x]) for i in data]\n",
    "        ys = [float(i[target_y]) for i in data]\n",
    "        tups.extend(zip(xs, ys))  \n",
    "    xvals, yvals = zip(*tups) \n",
    "    return thinkstats2.Corr(xvals, yvals)\n",
    "\n",
    "def corr_all():\n",
    "    '''\n",
    "    Checks all combinations of x and y for correlation.\n",
    "    '''\n",
    "    all_corrs = []\n",
    "    for x in range(7):\n",
    "        for y in range(x+1,7):\n",
    "            this_corr = corr_one(target_x=x, target_y=y)\n",
    "            all_corrs.append((this_corr,index_to_name[x],index_to_name[y]))\n",
    "    return sorted(all_corrs,reverse=True)"
   ]
  },
  {
   "cell_type": "code",
   "execution_count": 80,
   "metadata": {
    "collapsed": false
   },
   "outputs": [
    {
     "name": "stdout",
     "output_type": "stream",
     "text": [
      "high:\t-0.43375160972\n",
      "low:\t-0.319981936581\n"
     ]
    }
   ],
   "source": [
    "# plot_vals()\n",
    "# scatter_all()\n",
    "scatter_hilo()"
   ]
  },
  {
   "cell_type": "code",
   "execution_count": 76,
   "metadata": {
    "collapsed": false
   },
   "outputs": [
    {
     "data": {
      "text/plain": [
       "[(0.9907600481233183, 'Colony count (1000s)', 'Production (1000 lbs)'),\n",
       " (0.97057792691681544, 'Production (1000 lbs)', 'Stocks (1000 lbs)'),\n",
       " (0.95567981257964052, 'Colony count (1000s)', 'Total value ($1000s)'),\n",
       " (0.94799959652632848, 'Colony count (1000s)', 'Stocks (1000 lbs)'),\n",
       " (0.93177815055657098, 'Production (1000 lbs)', 'Total value ($1000s)'),\n",
       " (0.84145313764376706, 'Stocks (1000 lbs)', 'Total value ($1000s)'),\n",
       " (0.69210096918787756, 'Year', 'Price (cents/lb)'),\n",
       " (0.14995041663077072, 'Yield (lbs per colony)', 'Production (1000 lbs)'),\n",
       " (0.14819878941664166, 'Yield (lbs per colony)', 'Stocks (1000 lbs)'),\n",
       " (0.10560255418998385, 'Yield (lbs per colony)', 'Total value ($1000s)'),\n",
       " (0.1015396697519359, 'Colony count (1000s)', 'Yield (lbs per colony)'),\n",
       " (0.081694920900981613, 'Year', 'Total value ($1000s)'),\n",
       " (0.012909067882169346, 'Year', 'Colony count (1000s)'),\n",
       " (-0.01385893110751331, 'Year', 'Production (1000 lbs)'),\n",
       " (-0.047063856821921164, 'Year', 'Stocks (1000 lbs)'),\n",
       " (-0.050337332383799879, 'Price (cents/lb)', 'Total value ($1000s)'),\n",
       " (-0.10922395009852869, 'Colony count (1000s)', 'Price (cents/lb)'),\n",
       " (-0.12699302095646259, 'Production (1000 lbs)', 'Price (cents/lb)'),\n",
       " (-0.15065548195726725, 'Stocks (1000 lbs)', 'Price (cents/lb)'),\n",
       " (-0.22515314948658313, 'Year', 'Yield (lbs per colony)'),\n",
       " (-0.36077865894771866, 'Yield (lbs per colony)', 'Price (cents/lb)')]"
      ]
     },
     "execution_count": 76,
     "metadata": {},
     "output_type": "execute_result"
    }
   ],
   "source": [
    "corr_all()"
   ]
  },
  {
   "cell_type": "code",
   "execution_count": null,
   "metadata": {
    "collapsed": true
   },
   "outputs": [],
   "source": []
  }
 ],
 "metadata": {
  "kernelspec": {
   "display_name": "Python 2",
   "language": "python",
   "name": "python2"
  },
  "language_info": {
   "codemirror_mode": {
    "name": "ipython",
    "version": 2
   },
   "file_extension": ".py",
   "mimetype": "text/x-python",
   "name": "python",
   "nbconvert_exporter": "python",
   "pygments_lexer": "ipython2",
   "version": "2.7.6"
  }
 },
 "nbformat": 4,
 "nbformat_minor": 0
}
