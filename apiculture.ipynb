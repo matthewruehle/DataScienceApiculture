{
 "cells": [
  {
   "cell_type": "code",
   "execution_count": 62,
   "metadata": {
    "collapsed": false
   },
   "outputs": [],
   "source": [
    "\"\"\"\n",
    "Project for Olin College, Data Science, Spring 2017.\n",
    "\n",
    "Data from:\n",
    "https://www.nass.usda.gov/Surveys/Guide_to_NASS_Surveys/Bee_and_Honey/\n",
    "http://usda.mannlib.cornell.edu/MannUsda/viewDocumentInfo.do?documentID=1191\n",
    "\n",
    "\n",
    "unzip the csv zip files with\n",
    "\n",
    "$  for VARIABLE in 2002 2003 2004 2005 2006 2007 2008 2009 2010 2011 2012 2013 2014 2015 2016; \n",
    "$  do   unzip *$VARIABLE.zip -d $VARIABLE; \n",
    "$  done\n",
    "\n",
    "or pull them from my git.\n",
    "\"\"\"\n",
    "\n",
    "import numpy as np\n",
    "import pandas\n",
    "import os\n",
    "import string"
   ]
  },
  {
   "cell_type": "code",
   "execution_count": 63,
   "metadata": {
    "collapsed": false
   },
   "outputs": [],
   "source": [
    "def get_all_csvs(csv_years=[2002+i for i in range(15)], csv_path=\"data/csvs/\"):\n",
    "    '''\n",
    "    Returns a list of all csv files in the (hard-coded) year-directory combinations.\n",
    "    '''\n",
    "    all_csvs = []\n",
    "    for i in csv_years:\n",
    "        this_path = csv_path + str(i) + \"/\"\n",
    "        these_files = os.listdir(this_path)\n",
    "        these_csvs = [(this_path + i) for i in these_files if i[-4:] == \".csv\"]\n",
    "        all_csvs.extend(these_csvs)\n",
    "    return all_csvs"
   ]
  },
  {
   "cell_type": "code",
   "execution_count": 64,
   "metadata": {
    "collapsed": false
   },
   "outputs": [],
   "source": [
    "class Csv_obj(object):\n",
    "    def __init__(self, filename):\n",
    "        self.name = filename\n",
    "        year_start = filename.find(\"20\")\n",
    "        self.year = int(filename[year_start:year_start+4])\n",
    "        self.data_type = filename[(filename.find(\"_\")) : (filename.find(\".csv\"))]\n",
    "        self.df = sanitize_then_load_csv(filename)\n",
    "        \n",
    "    def __str__(self):\n",
    "        return str(self.year) + \"\\t\" + self.data_type\n",
    "    \n",
    "    def isnull(self):\n",
    "        if self.df is None:\n",
    "            return True\n",
    "        else:\n",
    "            return False"
   ]
  },
  {
   "cell_type": "code",
   "execution_count": 71,
   "metadata": {
    "collapsed": false
   },
   "outputs": [],
   "source": [
    "def sanitize_then_load_csv(filename, min_col_length=9, max_col_length = None):\n",
    "    \"\"\"\n",
    "    Gets around the metadata-y columns by scanning for the length of .split(',').\n",
    "    TODO: make it ignore the \"format\"/grammatical commas which occur within a single entry in the csv.\n",
    "    \"\"\"\n",
    "    f = open(filename)\n",
    "    lines_to_skip = []\n",
    "    for i, line in enumerate(f.readlines()):\n",
    "        l_split = line.split(',') # will also split internal commas in strings. todo: fix. low priority.\n",
    "        if len(l_split) < min_col_length:\n",
    "            lines_to_skip.append(i)\n",
    "        elif max_col_length != None:\n",
    "            if len(l_split) > max_col_length:\n",
    "                lines_to_skip.append(i)\n",
    "    try:\n",
    "        df = pandas.read_csv(filename, skiprows = lines_to_skip)\n",
    "    except Exception as err:\n",
    "        print \"Cannot read: \", filename, \"\\t \", str(err)[str(err).find(\"Expected\"):]\n",
    "        df = None\n",
    "    return df"
   ]
  },
  {
   "cell_type": "code",
   "execution_count": 72,
   "metadata": {
    "collapsed": false,
    "scrolled": false
   },
   "outputs": [],
   "source": [
    "all_csvs = get_all_csvs()"
   ]
  },
  {
   "cell_type": "code",
   "execution_count": 73,
   "metadata": {
    "collapsed": false
   },
   "outputs": [
    {
     "name": "stdout",
     "output_type": "stream",
     "text": [
      "Cannot read:  data/csvs/2008/hony_all.csv \t  Expected 9 fields in line 155, saw 11\n",
      "\n",
      "Cannot read:  data/csvs/2009/hony_all.csv \t  Expected 9 fields in line 155, saw 11\n",
      "\n",
      "Cannot read:  data/csvs/2010/hony_all.csv \t  Expected 9 fields in line 155, saw 11\n",
      "\n",
      "Cannot read:  data/csvs/2011/hony_all_tables.csv \t  Expected 9 fields in line 153, saw 11\n",
      "\n",
      "Cannot read:  data/csvs/2012/hony_all_tables.csv \t  Expected 9 fields in line 152, saw 10\n",
      "\n",
      "Cannot read:  data/csvs/2013/hony_all_tables.csv \t  Expected 9 fields in line 152, saw 10\n",
      "\n",
      "Cannot read:  data/csvs/2014/hony_all_tables.csv \t  Expected 9 fields in line 151, saw 10\n",
      "\n",
      "Cannot read:  data/csvs/2015/hony_all_tables.csv \t  Expected 9 fields in line 151, saw 10\n",
      "\n",
      "Cannot read:  data/csvs/2016/hony_p00a_t005.csv \t  e\n",
      "Cannot read:  data/csvs/2016/hony_all_tables.csv \t  Expected 9 fields in line 166, saw 10\n",
      "\n"
     ]
    }
   ],
   "source": [
    "csv_objs = [Csv_obj(i) for i in all_csvs]"
   ]
  },
  {
   "cell_type": "code",
   "execution_count": 74,
   "metadata": {
    "collapsed": false
   },
   "outputs": [
    {
     "data": {
      "text/plain": [
       "[<__main__.Csv_obj at 0x7fae4cf4e190>,\n",
       " <__main__.Csv_obj at 0x7fae4ce22bd0>,\n",
       " <__main__.Csv_obj at 0x7fae4cf52790>,\n",
       " <__main__.Csv_obj at 0x7fae4d073490>,\n",
       " <__main__.Csv_obj at 0x7fae4cf4e7d0>,\n",
       " <__main__.Csv_obj at 0x7fae4ce18f50>,\n",
       " <__main__.Csv_obj at 0x7fae4ce18bd0>,\n",
       " <__main__.Csv_obj at 0x7fae4ce188d0>,\n",
       " <__main__.Csv_obj at 0x7fae4ce18090>,\n",
       " <__main__.Csv_obj at 0x7fae4ce181d0>,\n",
       " <__main__.Csv_obj at 0x7fae4ce18f10>,\n",
       " <__main__.Csv_obj at 0x7fae4ce18390>,\n",
       " <__main__.Csv_obj at 0x7fae4ce18250>,\n",
       " <__main__.Csv_obj at 0x7fae4ce18610>,\n",
       " <__main__.Csv_obj at 0x7fae4ce18750>,\n",
       " <__main__.Csv_obj at 0x7fae4ce187d0>,\n",
       " <__main__.Csv_obj at 0x7fae4ce18850>,\n",
       " <__main__.Csv_obj at 0x7fae4ce18590>,\n",
       " <__main__.Csv_obj at 0x7fae4ce183d0>,\n",
       " <__main__.Csv_obj at 0x7fae4ce18650>,\n",
       " <__main__.Csv_obj at 0x7fae4ce0f950>,\n",
       " <__main__.Csv_obj at 0x7fae4cdad4d0>,\n",
       " <__main__.Csv_obj at 0x7fae4cdad450>,\n",
       " <__main__.Csv_obj at 0x7fae4cdad650>,\n",
       " <__main__.Csv_obj at 0x7fae4cdad790>,\n",
       " <__main__.Csv_obj at 0x7fae4cdad910>,\n",
       " <__main__.Csv_obj at 0x7fae4d02c190>,\n",
       " <__main__.Csv_obj at 0x7fae4cdada10>,\n",
       " <__main__.Csv_obj at 0x7fae4cdad6d0>,\n",
       " <__main__.Csv_obj at 0x7fae4cdadb50>,\n",
       " <__main__.Csv_obj at 0x7fae4cdaddd0>,\n",
       " <__main__.Csv_obj at 0x7fae4cdaded0>,\n",
       " <__main__.Csv_obj at 0x7fae4cdadd90>,\n",
       " <__main__.Csv_obj at 0x7fae4cdadc90>,\n",
       " <__main__.Csv_obj at 0x7fae4cdadf90>,\n",
       " <__main__.Csv_obj at 0x7fae4cdade50>,\n",
       " <__main__.Csv_obj at 0x7fae4c382290>,\n",
       " <__main__.Csv_obj at 0x7fae4c382110>,\n",
       " <__main__.Csv_obj at 0x7fae4c3821d0>,\n",
       " <__main__.Csv_obj at 0x7fae4c382410>,\n",
       " <__main__.Csv_obj at 0x7fae4c382510>,\n",
       " <__main__.Csv_obj at 0x7fae4c382310>,\n",
       " <__main__.Csv_obj at 0x7fae4c382750>,\n",
       " <__main__.Csv_obj at 0x7fae4c3828d0>,\n",
       " <__main__.Csv_obj at 0x7fae4c382610>,\n",
       " <__main__.Csv_obj at 0x7fae4c382810>,\n",
       " <__main__.Csv_obj at 0x7fae4c382950>,\n",
       " <__main__.Csv_obj at 0x7fae4c382a50>,\n",
       " <__main__.Csv_obj at 0x7fae4c382b50>,\n",
       " <__main__.Csv_obj at 0x7fae4c382c90>,\n",
       " <__main__.Csv_obj at 0x7fae4c382d10>,\n",
       " <__main__.Csv_obj at 0x7fae4c382dd0>,\n",
       " <__main__.Csv_obj at 0x7fae4c382fd0>,\n",
       " <__main__.Csv_obj at 0x7fae4c382ed0>,\n",
       " <__main__.Csv_obj at 0x7fae4c3ae050>,\n",
       " <__main__.Csv_obj at 0x7fae4c3ae190>,\n",
       " <__main__.Csv_obj at 0x7fae4c3ae290>,\n",
       " <__main__.Csv_obj at 0x7fae4c3ae490>,\n",
       " <__main__.Csv_obj at 0x7fae4c3ae510>,\n",
       " <__main__.Csv_obj at 0x7fae4c3ae390>,\n",
       " <__main__.Csv_obj at 0x7fae4c3ae610>,\n",
       " <__main__.Csv_obj at 0x7fae4c3ae710>,\n",
       " <__main__.Csv_obj at 0x7fae4c3ae910>,\n",
       " <__main__.Csv_obj at 0x7fae4c3ae990>,\n",
       " <__main__.Csv_obj at 0x7fae4c3ae810>,\n",
       " <__main__.Csv_obj at 0x7fae4c3aea90>,\n",
       " <__main__.Csv_obj at 0x7fae4c3aeb90>,\n",
       " <__main__.Csv_obj at 0x7fae4c3aed10>,\n",
       " <__main__.Csv_obj at 0x7fae4c3aecd0>,\n",
       " <__main__.Csv_obj at 0x7fae4c3aec90>]"
      ]
     },
     "execution_count": 74,
     "metadata": {},
     "output_type": "execute_result"
    }
   ],
   "source": [
    "csv_objs"
   ]
  },
  {
   "cell_type": "code",
   "execution_count": null,
   "metadata": {
    "collapsed": false
   },
   "outputs": [],
   "source": []
  },
  {
   "cell_type": "code",
   "execution_count": null,
   "metadata": {
    "collapsed": false
   },
   "outputs": [],
   "source": []
  },
  {
   "cell_type": "code",
   "execution_count": null,
   "metadata": {
    "collapsed": true
   },
   "outputs": [],
   "source": []
  }
 ],
 "metadata": {
  "kernelspec": {
   "display_name": "Python 2",
   "language": "python",
   "name": "python2"
  },
  "language_info": {
   "codemirror_mode": {
    "name": "ipython",
    "version": 2
   },
   "file_extension": ".py",
   "mimetype": "text/x-python",
   "name": "python",
   "nbconvert_exporter": "python",
   "pygments_lexer": "ipython2",
   "version": "2.7.6"
  }
 },
 "nbformat": 4,
 "nbformat_minor": 0
}
